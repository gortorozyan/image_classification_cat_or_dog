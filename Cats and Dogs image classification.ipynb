{
 "cells": [
  {
   "cell_type": "code",
   "execution_count": 1,
   "id": "45b5c65b-0766-4562-b8d5-851fa1ed309b",
   "metadata": {},
   "outputs": [],
   "source": [
    "import numpy as np\n",
    "import pandas as pd\n",
    "import seaborn as sns\n",
    "# import matplotlib.pyplot as plt\n",
    "import matplotlib.image as mpimg\n",
    "import cv2\n",
    "from keras import Sequential\n",
    "from keras.layers import Dense, Conv2D, MaxPooling2D, Flatten, Dropout, BatchNormalization\n",
    "import os\n",
    "from sklearn.model_selection import train_test_split\n",
    "from keras.utils import to_categorical"
   ]
  },
  {
   "cell_type": "code",
   "execution_count": 2,
   "id": "974d71ea-0210-4d00-850b-70d60a502967",
   "metadata": {},
   "outputs": [],
   "source": [
    "X_dog_train, X_dog_test, X_cat_train, X_cat_test= os.listdir('data/train/dogs'), os.listdir('data/test/dogs'), os.listdir('data/train/cats'), os.listdir('data/test/cats')"
   ]
  },
  {
   "cell_type": "code",
   "execution_count": 3,
   "id": "27490a83-5cd0-49c5-baac-27e118a560fc",
   "metadata": {},
   "outputs": [],
   "source": [
    "y_dog_train, y_cat_train = [1 for i in range(len(X_dog_train))], [0 for i in range(len(X_cat_train))]\n",
    "y_dog_test, y_cat_test = [1 for i in range(len(X_dog_test))], [0 for i in range(len(X_cat_test))]"
   ]
  },
  {
   "cell_type": "code",
   "execution_count": 5,
   "id": "ac18c9c7-3bf6-47f9-a714-034e8d5f3f3a",
   "metadata": {},
   "outputs": [],
   "source": [
    "df_train, df_test = pd.DataFrame(data= X_dog_train + X_cat_train, columns=['Image']), pd.DataFrame(data= X_dog_test + X_cat_test, columns=['Image'])\n",
    "df_train['target'], df_test['target'] = y_dog_train + y_cat_train, y_dog_test + y_cat_test"
   ]
  },
  {
   "cell_type": "code",
   "execution_count": 6,
   "id": "df3cc2e5-48c4-4507-92bc-3f7d7536c1cd",
   "metadata": {},
   "outputs": [],
   "source": [
    "df_train = df_train.sample(frac=1, random_state=42).reset_index(drop=True)\n",
    "df_test = df_test.sample(frac=1, random_state=42).reset_index(drop=True)\n"
   ]
  },
  {
   "cell_type": "code",
   "execution_count": 7,
   "id": "15398178-1681-45fa-9511-8f4f01c33b0e",
   "metadata": {},
   "outputs": [],
   "source": [
    "mean_size_m, mean_size_n = [], []\n",
    "for i in X_dog_train:\n",
    "    image = mpimg.imread(f'data/train/dogs/{i}')\n",
    "    mean_size_m.append(image.shape[0])\n",
    "    mean_size_n.append(image.shape[1])\n",
    "for i in X_dog_test:\n",
    "    image = mpimg.imread(f'data/test/dogs/{i}')\n",
    "    mean_size_m.append(image.shape[0])\n",
    "    mean_size_n.append(image.shape[1])\n",
    "for i in X_cat_train:\n",
    "    image = mpimg.imread(f'data/train/cats/{i}')\n",
    "    mean_size_m.append(image.shape[0])\n",
    "    mean_size_n.append(image.shape[1])\n",
    "for i in X_cat_test:\n",
    "    image = mpimg.imread(f'data/test/cats/{i}')\n",
    "    mean_size_m.append(image.shape[0])\n",
    "    mean_size_n.append(image.shape[1])"
   ]
  },
  {
   "cell_type": "code",
   "execution_count": 8,
   "id": "dc4cbc82-8827-428d-937b-e3774f67a084",
   "metadata": {},
   "outputs": [],
   "source": [
    "img_size_m, img_size_n = int(np.round(np.mean(mean_size_m))), int(np.round(np.mean(mean_size_n)))"
   ]
  },
  {
   "cell_type": "code",
   "execution_count": 9,
   "id": "a2489d27-2c78-4f4e-8c97-a16939a04d1a",
   "metadata": {},
   "outputs": [],
   "source": [
    "X_data_train, y_data_train = [], []\n",
    "for i in range(0, len(df_train['Image'])):\n",
    "    if df_train['target'].iloc[i] == 0:\n",
    "        image = mpimg.imread(f'data/train/cats/{df_train[\"Image\"].iloc[i]}')\n",
    "    else:\n",
    "        image = mpimg.imread(f'data/train/dogs/{df_train[\"Image\"].iloc[i]}')\n",
    "    image = cv2.resize(image, (img_size_m, img_size_n))\n",
    "    if len(image.shape) == 3 and image.shape[2] == 3:\n",
    "        image = cv2.cvtColor(image, cv2.COLOR_BGR2GRAY)\n",
    "    image = image.reshape(img_size_m, img_size_n, 1)\n",
    "    image = image / 255\n",
    "    X_data_train.append(image)\n",
    "    y_data_train.append(0)\n",
    "                \n"
   ]
  },
  {
   "cell_type": "code",
   "execution_count": 10,
   "id": "819dbda1-676b-4686-9245-13cd4ca97959",
   "metadata": {},
   "outputs": [],
   "source": [
    "X_data_test, y_data_test = [], []\n",
    "for i in range(0, len(df_test['Image'])):\n",
    "    if df_test['target'].iloc[i] == 0:\n",
    "        image = mpimg.imread(f'data/test/cats/{df_test[\"Image\"].iloc[i]}')\n",
    "    else:\n",
    "        image = mpimg.imread(f'data/test/dogs/{df_test[\"Image\"].iloc[i]}')\n",
    "    image = cv2.resize(image, (img_size_m, img_size_n))\n",
    "    if len(image.shape) == 3 and image.shape[2] == 3:\n",
    "        image = cv2.cvtColor(image, cv2.COLOR_BGR2GRAY)\n",
    "    image = image.reshape(img_size_m, img_size_n, 1)\n",
    "    image = image / 255\n",
    "    X_data_test.append(image)\n",
    "    y_data_test.append(0)"
   ]
  },
  {
   "cell_type": "code",
   "execution_count": 11,
   "id": "a0e7862f-cf59-4e7b-8697-f0023a9591c8",
   "metadata": {},
   "outputs": [],
   "source": [
    "X_data_train, y_data_train = np.array(X_data_train), np.array(y_data_train)"
   ]
  },
  {
   "cell_type": "code",
   "execution_count": 12,
   "id": "a04bd636-34af-41a3-97c6-37fe2634fb12",
   "metadata": {},
   "outputs": [],
   "source": [
    "X_data_test, y_data_test = np.array(X_data_test), np.array(y_data_test)"
   ]
  },
  {
   "cell_type": "code",
   "execution_count": 13,
   "id": "939ee412-cebf-4db1-8aac-bdeb546e58d6",
   "metadata": {},
   "outputs": [],
   "source": [
    "y_data_train, y_data_test = to_categorical(y_data_train, num_classes=2), to_categorical(y_data_test, num_classes=2)"
   ]
  },
  {
   "cell_type": "code",
   "execution_count": 18,
   "id": "69b0002e-0759-4355-ac7f-9b0e6a0b690c",
   "metadata": {},
   "outputs": [
    {
     "data": {
      "text/plain": [
       "(140, 648, 939, 1)"
      ]
     },
     "execution_count": 18,
     "metadata": {},
     "output_type": "execute_result"
    }
   ],
   "source": [
    "y"
   ]
  },
  {
   "cell_type": "code",
   "execution_count": 17,
   "id": "6509f137-cc92-49eb-a1f4-28fdb8ce919a",
   "metadata": {},
   "outputs": [],
   "source": [
    "model = Sequential()\n",
    "model.add(Conv2D(filters=32, kernel_size=(3, 3), activation='relu', input_shape=(img_size_m, img_size_n, 1)))\n",
    "model.add(MaxPooling2D(pool_size=(2, 2)))\n",
    "model.add(Conv2D(filters=64, kernel_size=(3, 3), activation='relu'))\n",
    "model.add(MaxPooling2D(pool_size=(2, 2)))\n",
    "model.add(Flatten())\n",
    "model.add(Dense(32, activation='relu'))\n",
    "model.add(Dense(16, activation='relu'))\n",
    "model.add(Dense(2, activation='softmax'))\n",
    "\n",
    "\n",
    "model.compile(optimizer='adam', loss='binary_crossentropy', metrics=['accuracy'])"
   ]
  },
  {
   "cell_type": "code",
   "execution_count": 1,
   "id": "553e1610-3e98-4fcb-a26c-2c3018fd8071",
   "metadata": {},
   "outputs": [
    {
     "ename": "NameError",
     "evalue": "name 'model' is not defined",
     "output_type": "error",
     "traceback": [
      "\u001b[1;31m---------------------------------------------------------------------------\u001b[0m",
      "\u001b[1;31mNameError\u001b[0m                                 Traceback (most recent call last)",
      "Cell \u001b[1;32mIn[1], line 1\u001b[0m\n\u001b[1;32m----> 1\u001b[0m \u001b[43mmodel\u001b[49m\u001b[38;5;241m.\u001b[39mfit(X_data_train, y_data_train, validation_data\u001b[38;5;241m=\u001b[39m(X_data_test, y_data_test), epochs\u001b[38;5;241m=\u001b[39m\u001b[38;5;241m5\u001b[39m, validation_split\u001b[38;5;241m=\u001b[39m\u001b[38;5;241m0.1\u001b[39m)\n",
      "\u001b[1;31mNameError\u001b[0m: name 'model' is not defined"
     ]
    }
   ],
   "source": [
    "model.fit(X_data_train, y_data_train, validation_data=(X_data_test, y_data_test), epochs=5, validation_split=0.1)"
   ]
  },
  {
   "cell_type": "code",
   "execution_count": null,
   "id": "8a84c18b-688f-4007-b6a4-10e73b1dbb60",
   "metadata": {},
   "outputs": [],
   "source": []
  },
  {
   "cell_type": "code",
   "execution_count": null,
   "id": "388d8367-4655-4aa4-a8a6-0a49121e9785",
   "metadata": {},
   "outputs": [],
   "source": []
  }
 ],
 "metadata": {
  "kernelspec": {
   "display_name": "Python 3 (ipykernel)",
   "language": "python",
   "name": "python3"
  },
  "language_info": {
   "codemirror_mode": {
    "name": "ipython",
    "version": 3
   },
   "file_extension": ".py",
   "mimetype": "text/x-python",
   "name": "python",
   "nbconvert_exporter": "python",
   "pygments_lexer": "ipython3",
   "version": "3.10.4"
  }
 },
 "nbformat": 4,
 "nbformat_minor": 5
}
